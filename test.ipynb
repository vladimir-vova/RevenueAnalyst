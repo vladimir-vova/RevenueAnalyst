{
 "cells": [
  {
   "cell_type": "markdown",
   "id": "f38dc357-b3e4-4032-9425-f90d705341ab",
   "metadata": {},
   "source": [
    "# Первичный анализ данных из БД"
   ]
  },
  {
   "cell_type": "code",
   "execution_count": 44,
   "id": "134befc4-c279-4c51-8078-5b0f7fd6ab26",
   "metadata": {},
   "outputs": [],
   "source": [
    "import psycopg2\n",
    "import pandas as pd"
   ]
  },
  {
   "cell_type": "code",
   "execution_count": 59,
   "id": "25d8c795-89d8-4fe4-88d2-7b4cb85baf09",
   "metadata": {},
   "outputs": [],
   "source": [
    "HOST = 'ep-green-butterfly-a26qo6f3.eu-central-1.aws.neon.tech'\n",
    "PORT = 5432\n",
    "DATABASE = 'datadb'\n",
    "USER = 'datadb_owner'\n",
    "PASSWORD = 'BmV3l0GArdNT'"
   ]
  },
  {
   "cell_type": "code",
   "execution_count": 60,
   "id": "a87b9eed-8449-45d5-9fb2-1a87568b4705",
   "metadata": {},
   "outputs": [],
   "source": [
    "connection = psycopg2.connect(\n",
    "    host = HOST,\n",
    "    port = PORT,\n",
    "    database = DATABASE,\n",
    "    user = USER,\n",
    "    password = PASSWORD,\n",
    ")"
   ]
  },
  {
   "cell_type": "code",
   "execution_count": 61,
   "id": "1019dc74-4ffd-4dcd-b40b-5e1125316a2b",
   "metadata": {},
   "outputs": [
    {
     "data": {
      "text/plain": [
       "<connection object at 0x0000023A08542240; dsn: 'user=datadb_owner password=xxx dbname=datadb host=ep-green-butterfly-a26qo6f3.eu-central-1.aws.neon.tech port=5432', closed: 0>"
      ]
     },
     "execution_count": 61,
     "metadata": {},
     "output_type": "execute_result"
    }
   ],
   "source": [
    "connection"
   ]
  },
  {
   "cell_type": "code",
   "execution_count": 81,
   "id": "181b7e65-0cd5-4526-a78a-4c20bed32b2e",
   "metadata": {},
   "outputs": [],
   "source": [
    "cursor = connection.cursor()\n",
    "query = \"\"\"select * from cd.inflation\"\"\"\n",
    "cursor.execute(query)\n",
    "data = cursor.fetchall()\n",
    "cursor.close()\n",
    "InfDf = pd.DataFrame(data, columns = ['infid', 'inflation', 'data'])"
   ]
  },
  {
   "cell_type": "code",
   "execution_count": 82,
   "id": "a0d5914a-ef4f-46f4-95ea-92c6272635df",
   "metadata": {},
   "outputs": [
    {
     "data": {
      "text/html": [
       "<div>\n",
       "<style scoped>\n",
       "    .dataframe tbody tr th:only-of-type {\n",
       "        vertical-align: middle;\n",
       "    }\n",
       "\n",
       "    .dataframe tbody tr th {\n",
       "        vertical-align: top;\n",
       "    }\n",
       "\n",
       "    .dataframe thead th {\n",
       "        text-align: right;\n",
       "    }\n",
       "</style>\n",
       "<table border=\"1\" class=\"dataframe\">\n",
       "  <thead>\n",
       "    <tr style=\"text-align: right;\">\n",
       "      <th></th>\n",
       "      <th>infid</th>\n",
       "      <th>inflation</th>\n",
       "      <th>data</th>\n",
       "    </tr>\n",
       "  </thead>\n",
       "  <tbody>\n",
       "    <tr>\n",
       "      <th>0</th>\n",
       "      <td>0</td>\n",
       "      <td>28.93</td>\n",
       "      <td>2000-01-01</td>\n",
       "    </tr>\n",
       "    <tr>\n",
       "      <th>1</th>\n",
       "      <td>1</td>\n",
       "      <td>25.11</td>\n",
       "      <td>2000-02-01</td>\n",
       "    </tr>\n",
       "    <tr>\n",
       "      <th>2</th>\n",
       "      <td>2</td>\n",
       "      <td>22.49</td>\n",
       "      <td>2000-03-01</td>\n",
       "    </tr>\n",
       "    <tr>\n",
       "      <th>3</th>\n",
       "      <td>3</td>\n",
       "      <td>19.95</td>\n",
       "      <td>2000-04-01</td>\n",
       "    </tr>\n",
       "    <tr>\n",
       "      <th>4</th>\n",
       "      <td>4</td>\n",
       "      <td>19.40</td>\n",
       "      <td>2000-05-01</td>\n",
       "    </tr>\n",
       "    <tr>\n",
       "      <th>...</th>\n",
       "      <td>...</td>\n",
       "      <td>...</td>\n",
       "      <td>...</td>\n",
       "    </tr>\n",
       "    <tr>\n",
       "      <th>140</th>\n",
       "      <td>140</td>\n",
       "      <td>3.05</td>\n",
       "      <td>2019-01-01</td>\n",
       "    </tr>\n",
       "    <tr>\n",
       "      <th>141</th>\n",
       "      <td>141</td>\n",
       "      <td>4.91</td>\n",
       "      <td>2020-01-01</td>\n",
       "    </tr>\n",
       "    <tr>\n",
       "      <th>142</th>\n",
       "      <td>142</td>\n",
       "      <td>8.39</td>\n",
       "      <td>2021-01-01</td>\n",
       "    </tr>\n",
       "    <tr>\n",
       "      <th>143</th>\n",
       "      <td>143</td>\n",
       "      <td>11.92</td>\n",
       "      <td>2022-01-01</td>\n",
       "    </tr>\n",
       "    <tr>\n",
       "      <th>144</th>\n",
       "      <td>144</td>\n",
       "      <td>7.42</td>\n",
       "      <td>2023-01-01</td>\n",
       "    </tr>\n",
       "  </tbody>\n",
       "</table>\n",
       "<p>145 rows × 3 columns</p>\n",
       "</div>"
      ],
      "text/plain": [
       "     infid inflation       data\n",
       "0        0     28.93 2000-01-01\n",
       "1        1     25.11 2000-02-01\n",
       "2        2     22.49 2000-03-01\n",
       "3        3     19.95 2000-04-01\n",
       "4        4     19.40 2000-05-01\n",
       "..     ...       ...        ...\n",
       "140    140      3.05 2019-01-01\n",
       "141    141      4.91 2020-01-01\n",
       "142    142      8.39 2021-01-01\n",
       "143    143     11.92 2022-01-01\n",
       "144    144      7.42 2023-01-01\n",
       "\n",
       "[145 rows x 3 columns]"
      ]
     },
     "execution_count": 82,
     "metadata": {},
     "output_type": "execute_result"
    }
   ],
   "source": [
    "InfDf"
   ]
  },
  {
   "cell_type": "markdown",
   "id": "f0c5b3e7-8000-4d45-80d4-8cd45e331efa",
   "metadata": {},
   "source": [
    "## Цель:\n",
    "1. Вывести инфляцию в виде графика\n",
    "2. Вывести рост зарплат по профессиям (сделать категорию)\n",
    "3. Вывести в один график зарплату и инфляцию"
   ]
  },
  {
   "cell_type": "code",
   "execution_count": 1,
   "id": "5adcaf29-55f6-4e3d-877e-b10a4dcf8054",
   "metadata": {},
   "outputs": [],
   "source": [
    "import numpy as np\n",
    "import matplotlib.pyplot as plt\n",
    "import seaborn as sns"
   ]
  },
  {
   "cell_type": "code",
   "execution_count": null,
   "id": "81f6387a-962a-41d2-92ec-01c779330288",
   "metadata": {},
   "outputs": [],
   "source": []
  }
 ],
 "metadata": {
  "kernelspec": {
   "display_name": "Python 3 (ipykernel)",
   "language": "python",
   "name": "python3"
  },
  "language_info": {
   "codemirror_mode": {
    "name": "ipython",
    "version": 3
   },
   "file_extension": ".py",
   "mimetype": "text/x-python",
   "name": "python",
   "nbconvert_exporter": "python",
   "pygments_lexer": "ipython3",
   "version": "3.11.4"
  }
 },
 "nbformat": 4,
 "nbformat_minor": 5
}
