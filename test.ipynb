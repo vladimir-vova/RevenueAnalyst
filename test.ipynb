{
 "cells": [
  {
   "cell_type": "markdown",
   "id": "f38dc357-b3e4-4032-9425-f90d705341ab",
   "metadata": {},
   "source": [
    "# Первичный анализ данных из БД"
   ]
  },
  {
   "cell_type": "code",
   "execution_count": 2,
   "id": "134befc4-c279-4c51-8078-5b0f7fd6ab26",
   "metadata": {},
   "outputs": [],
   "source": [
    "import psycopg2"
   ]
  },
  {
   "cell_type": "code",
   "execution_count": 3,
   "id": "25d8c795-89d8-4fe4-88d2-7b4cb85baf09",
   "metadata": {},
   "outputs": [],
   "source": [
    "HOST = 'ep-green-butterfly-a26qo6f3.eu-central-1.aws.neon.tech'\n",
    "PORT = 5432\n",
    "DATABASE = 'datadb'\n",
    "USER = 'datadb_owner'\n",
    "PASSWORD = 'BmV3l0GArdNT'"
   ]
  },
  {
   "cell_type": "code",
   "execution_count": null,
   "id": "a87b9eed-8449-45d5-9fb2-1a87568b4705",
   "metadata": {},
   "outputs": [],
   "source": [
    "connection = psycopg2.connect(\n",
    "    host=HOST,\n",
    "    port=PORT,\n",
    "    database=DATABASE,\n",
    "    user=USER,\n",
    "    password = PASSWORD,\n",
    ")"
   ]
  }
 ],
 "metadata": {
  "kernelspec": {
   "display_name": "Python 3 (ipykernel)",
   "language": "python",
   "name": "python3"
  },
  "language_info": {
   "codemirror_mode": {
    "name": "ipython",
    "version": 3
   },
   "file_extension": ".py",
   "mimetype": "text/x-python",
   "name": "python",
   "nbconvert_exporter": "python",
   "pygments_lexer": "ipython3",
   "version": "3.11.4"
  }
 },
 "nbformat": 4,
 "nbformat_minor": 5
}
